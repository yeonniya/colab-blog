{
  "nbformat": 4,
  "nbformat_minor": 0,
  "metadata": {
    "colab": {
      "name": "2021_07_05_데이터분석_numpy.ipynb",
      "provenance": [],
      "collapsed_sections": []
    },
    "kernelspec": {
      "name": "python3",
      "display_name": "Python 3"
    },
    "language_info": {
      "name": "python"
    }
  },
  "cells": [
    {
      "cell_type": "markdown",
      "metadata": {
        "id": "G56GWMc5S7g5"
      },
      "source": [
        "# \"데이터 분석 numpy 기초 문법 노트북\"\n",
        ">\"2021년 여름방학 데이터분석을 위한 Numpy 기초문법\"\n",
        "\n",
        "\n",
        "- toc: true\n",
        "- branch: master\n",
        "- badges: true\n",
        "- comments: true\n",
        "- author: namyeon\n",
        "- categories: [python, 데이터분석,numpy]\n",
        "\n"
      ]
    },
    {
      "cell_type": "code",
      "metadata": {
        "colab": {
          "base_uri": "https://localhost:8080/"
        },
        "id": "nmmBn_dqUt7Q",
        "outputId": "3cb1b59a-c195-48a1-fb96-e7168361be33"
      },
      "source": [
        "리스트 = [[1, 2, 3], [4, 5, 6], [7, 8, 9]]\n",
        "리스트[0][0]\n",
        "리스트[0]\n",
        "리스트[2][0]\n",
        "리스트 * 2"
      ],
      "execution_count": 2,
      "outputs": [
        {
          "output_type": "execute_result",
          "data": {
            "text/plain": [
              "[[1, 2, 3], [4, 5, 6], [7, 8, 9], [1, 2, 3], [4, 5, 6], [7, 8, 9]]"
            ]
          },
          "metadata": {
            "tags": []
          },
          "execution_count": 2
        }
      ]
    },
    {
      "cell_type": "code",
      "metadata": {
        "colab": {
          "base_uri": "https://localhost:8080/"
        },
        "id": "Tnp8-yPbViBH",
        "outputId": "74c3d298-8433-420f-9963-8f21ab7cd5f1"
      },
      "source": [
        "import numpy as np\n",
        "\n",
        "리스트 = [[1, 2, 3], [4, 5, 6], [7, 8, 9]]\n",
        "리스트 = np.array(리스트)\n",
        "리스트 * 2\n",
        "리스트 + 100"
      ],
      "execution_count": 5,
      "outputs": [
        {
          "output_type": "execute_result",
          "data": {
            "text/plain": [
              "array([[101, 102, 103],\n",
              "       [104, 105, 106],\n",
              "       [107, 108, 109]])"
            ]
          },
          "metadata": {
            "tags": []
          },
          "execution_count": 5
        }
      ]
    },
    {
      "cell_type": "code",
      "metadata": {
        "colab": {
          "base_uri": "https://localhost:8080/"
        },
        "id": "b53cTiW_V8cB",
        "outputId": "565ec7bb-62c6-4b71-876b-637f81a97487"
      },
      "source": [
        "a = np.arange(20).reshape(4, 5)\n",
        "a"
      ],
      "execution_count": 6,
      "outputs": [
        {
          "output_type": "execute_result",
          "data": {
            "text/plain": [
              "array([[ 0,  1,  2,  3,  4],\n",
              "       [ 5,  6,  7,  8,  9],\n",
              "       [10, 11, 12, 13, 14]])"
            ]
          },
          "metadata": {
            "tags": []
          },
          "execution_count": 6
        }
      ]
    },
    {
      "cell_type": "code",
      "metadata": {
        "colab": {
          "base_uri": "https://localhost:8080/"
        },
        "id": "VFN1LNTWWLvo",
        "outputId": "0f369e3d-127c-43b5-f9df-0a8ee46196b1"
      },
      "source": [
        "a = np.arange(20).reshape(2, 2, 5)\n",
        "a[0][1][2]"
      ],
      "execution_count": 8,
      "outputs": [
        {
          "output_type": "execute_result",
          "data": {
            "text/plain": [
              "7"
            ]
          },
          "metadata": {
            "tags": []
          },
          "execution_count": 8
        }
      ]
    },
    {
      "cell_type": "code",
      "metadata": {
        "colab": {
          "base_uri": "https://localhost:8080/"
        },
        "id": "A4r9CCWGWrNv",
        "outputId": "57e05f0d-bc0e-4624-9843-7eb4c59d9274"
      },
      "source": [
        "a = np.arange(15).reshape(3, 5)\n",
        "a\n",
        "a.shape \n",
        "a.ndim #n dimension의 약자\n",
        "a.dtype.name\n",
        "a.itemsize\n",
        "a.size # flat한 데이터 사이즈\n",
        "type(a)\n"
      ],
      "execution_count": 14,
      "outputs": [
        {
          "output_type": "execute_result",
          "data": {
            "text/plain": [
              "numpy.ndarray"
            ]
          },
          "metadata": {
            "tags": []
          },
          "execution_count": 14
        }
      ]
    },
    {
      "cell_type": "code",
      "metadata": {
        "colab": {
          "base_uri": "https://localhost:8080/"
        },
        "id": "X3Gx7DJvYmLf",
        "outputId": "b153dd72-3796-4c59-c9ac-760682f7aae3"
      },
      "source": [
        "np.zeros((3, 4))"
      ],
      "execution_count": 15,
      "outputs": [
        {
          "output_type": "execute_result",
          "data": {
            "text/plain": [
              "array([[0., 0., 0., 0.],\n",
              "       [0., 0., 0., 0.],\n",
              "       [0., 0., 0., 0.]])"
            ]
          },
          "metadata": {
            "tags": []
          },
          "execution_count": 15
        }
      ]
    },
    {
      "cell_type": "code",
      "metadata": {
        "colab": {
          "base_uri": "https://localhost:8080/"
        },
        "id": "uYLImiAnYpNH",
        "outputId": "9a7f69b9-a0ae-4088-d726-ed7c3ee48f38"
      },
      "source": [
        "np.ones((2, 3), dtype=np.int16)"
      ],
      "execution_count": 16,
      "outputs": [
        {
          "output_type": "execute_result",
          "data": {
            "text/plain": [
              "array([[1, 1, 1],\n",
              "       [1, 1, 1]], dtype=int16)"
            ]
          },
          "metadata": {
            "tags": []
          },
          "execution_count": 16
        }
      ]
    },
    {
      "cell_type": "code",
      "metadata": {
        "colab": {
          "base_uri": "https://localhost:8080/"
        },
        "id": "0e5deMO-YyNw",
        "outputId": "46afb74d-4584-4514-fa03-fc20340be6ff"
      },
      "source": [
        "np.empty((2, 3))"
      ],
      "execution_count": 17,
      "outputs": [
        {
          "output_type": "execute_result",
          "data": {
            "text/plain": [
              "array([[4.65490234e-310, 0.00000000e+000, 0.00000000e+000],\n",
              "       [0.00000000e+000, 0.00000000e+000, 0.00000000e+000]])"
            ]
          },
          "metadata": {
            "tags": []
          },
          "execution_count": 17
        }
      ]
    },
    {
      "cell_type": "code",
      "metadata": {
        "colab": {
          "base_uri": "https://localhost:8080/"
        },
        "id": "1Hdu4AceY_Nv",
        "outputId": "0618d288-05cf-484f-ddf2-c019502693c4"
      },
      "source": [
        "np.arange(0, 2, 0.3)"
      ],
      "execution_count": 21,
      "outputs": [
        {
          "output_type": "execute_result",
          "data": {
            "text/plain": [
              "array([0. , 0.3, 0.6, 0.9, 1.2, 1.5, 1.8])"
            ]
          },
          "metadata": {
            "tags": []
          },
          "execution_count": 21
        }
      ]
    },
    {
      "cell_type": "code",
      "metadata": {
        "colab": {
          "base_uri": "https://localhost:8080/"
        },
        "id": "gtMYq9C9ZIS_",
        "outputId": "c66fecdf-417a-4a77-c100-ba6957402530"
      },
      "source": [
        "np.linspace(0, 9.5, 20)"
      ],
      "execution_count": 20,
      "outputs": [
        {
          "output_type": "execute_result",
          "data": {
            "text/plain": [
              "array([0. , 0.5, 1. , 1.5, 2. , 2.5, 3. , 3.5, 4. , 4.5, 5. , 5.5, 6. ,\n",
              "       6.5, 7. , 7.5, 8. , 8.5, 9. , 9.5])"
            ]
          },
          "metadata": {
            "tags": []
          },
          "execution_count": 20
        }
      ]
    },
    {
      "cell_type": "code",
      "metadata": {
        "id": "urOviJvjeaqe"
      },
      "source": [
        "리스트 = [[10, 2, 3], [4, 5, 6], [7, 8, 9]]\n",
        "a = np.arra(리스트)\n",
        "# a.sum(), sum(리스트) # sum(리스트)는 애러납니다.\n",
        "a.min(), min(리스트)\n",
        "a.max"
      ],
      "execution_count": null,
      "outputs": []
    },
    {
      "cell_type": "code",
      "metadata": {
        "colab": {
          "base_uri": "https://localhost:8080/"
        },
        "id": "d7YuJqrMex7e",
        "outputId": "4cd50c91-39de-44e4-a178-5f5d26883e5e"
      },
      "source": [
        "b = np.arange(12).reshape(3, 4)\n",
        "b"
      ],
      "execution_count": 22,
      "outputs": [
        {
          "output_type": "execute_result",
          "data": {
            "text/plain": [
              "array([[ 0,  1,  2,  3],\n",
              "       [ 4,  5,  6,  7],\n",
              "       [ 8,  9, 10, 11]])"
            ]
          },
          "metadata": {
            "tags": []
          },
          "execution_count": 22
        }
      ]
    },
    {
      "cell_type": "code",
      "metadata": {
        "colab": {
          "base_uri": "https://localhost:8080/"
        },
        "id": "sO98KRd6fdAF",
        "outputId": "e15f8c52-f18c-42a8-9d10-ef7e80b50f0a"
      },
      "source": [
        "b.sum(axis=0) # col기준으로 row끼리 더한 것(세로)\n",
        "b.sum(axis=1) # row기준으로 col끼리 더한 것(가로)\n",
        "b.sum() # flat하게 모두 더한 것"
      ],
      "execution_count": 23,
      "outputs": [
        {
          "output_type": "execute_result",
          "data": {
            "text/plain": [
              "66"
            ]
          },
          "metadata": {
            "tags": []
          },
          "execution_count": 23
        }
      ]
    },
    {
      "cell_type": "code",
      "metadata": {
        "colab": {
          "base_uri": "https://localhost:8080/"
        },
        "id": "KCGeTZ7dgdKu",
        "outputId": "e5f6f967-3d1c-4204-99e9-4081cc22b2ab"
      },
      "source": [
        "b.ravel() #평평하게 펴주는 것"
      ],
      "execution_count": 24,
      "outputs": [
        {
          "output_type": "execute_result",
          "data": {
            "text/plain": [
              "array([ 0,  1,  2,  3,  4,  5,  6,  7,  8,  9, 10, 11])"
            ]
          },
          "metadata": {
            "tags": []
          },
          "execution_count": 24
        }
      ]
    },
    {
      "cell_type": "code",
      "metadata": {
        "colab": {
          "base_uri": "https://localhost:8080/"
        },
        "id": "uDgqtVBUguCu",
        "outputId": "fd80e2ae-06b0-4b85-f334-8c4556677576"
      },
      "source": [
        "b.T #잘 써요\n",
        "# b.transpose() 잘 안써요"
      ],
      "execution_count": 25,
      "outputs": [
        {
          "output_type": "execute_result",
          "data": {
            "text/plain": [
              "array([[ 0,  4,  8],\n",
              "       [ 1,  5,  9],\n",
              "       [ 2,  6, 10],\n",
              "       [ 3,  7, 11]])"
            ]
          },
          "metadata": {
            "tags": []
          },
          "execution_count": 25
        }
      ]
    },
    {
      "cell_type": "code",
      "metadata": {
        "colab": {
          "base_uri": "https://localhost:8080/"
        },
        "id": "cNWS-edFg-O9",
        "outputId": "6a34f9b6-e996-467b-db31-e697d0b24240"
      },
      "source": [
        "a = np.array([[1, 2],[3, 4]])\n",
        "b = np.floor([[5,6], [7,8]])\n",
        "np.vstack((a, b))\n",
        "np.hstack((a, b))"
      ],
      "execution_count": 30,
      "outputs": [
        {
          "output_type": "execute_result",
          "data": {
            "text/plain": [
              "array([[1., 2., 5., 6.],\n",
              "       [3., 4., 7., 8.]])"
            ]
          },
          "metadata": {
            "tags": []
          },
          "execution_count": 30
        }
      ]
    },
    {
      "cell_type": "code",
      "metadata": {
        "colab": {
          "base_uri": "https://localhost:8080/"
        },
        "id": "ct8A3lpbiS2P",
        "outputId": "8797a723-e459-4a53-888e-52f7b958ca7c"
      },
      "source": [
        "#매우 많이 사용하는 코드입니다.\n",
        "a = np.arange(12).reshape(3, 4)\n",
        "b = a > 4\n",
        "b"
      ],
      "execution_count": 32,
      "outputs": [
        {
          "output_type": "execute_result",
          "data": {
            "text/plain": [
              "array([[False, False, False, False],\n",
              "       [False,  True,  True,  True],\n",
              "       [ True,  True,  True,  True]])"
            ]
          },
          "metadata": {
            "tags": []
          },
          "execution_count": 32
        }
      ]
    },
    {
      "cell_type": "code",
      "metadata": {
        "colab": {
          "base_uri": "https://localhost:8080/"
        },
        "id": "PH8speIIiQwl",
        "outputId": "f2a7a66f-6a9f-43a8-befb-1f48e504348a"
      },
      "source": [
        "b.sum()"
      ],
      "execution_count": 33,
      "outputs": [
        {
          "output_type": "execute_result",
          "data": {
            "text/plain": [
              "7"
            ]
          },
          "metadata": {
            "tags": []
          },
          "execution_count": 33
        }
      ]
    }
  ]
}

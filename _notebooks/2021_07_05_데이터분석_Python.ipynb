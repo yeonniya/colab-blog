{
  "nbformat": 4,
  "nbformat_minor": 0,
  "metadata": {
    "colab": {
      "name": "2021_07_05_데이터분석_Python.ipynb",
      "provenance": [],
      "collapsed_sections": []
    },
    "kernelspec": {
      "name": "python3",
      "display_name": "Python 3"
    },
    "language_info": {
      "name": "python"
    }
  },
  "cells": [
    {
      "cell_type": "markdown",
      "metadata": {
        "id": "lQn_6-JBMQa8"
      },
      "source": [
        "# \"데이터 분석 Python 기초 문법 노트북\"\n",
        "> \"2021년 여름방학 데이터분석을 위한 Python 기초문법\"\n",
        "\n",
        "- toc: true\n",
        "- branch: master\n",
        "- badges: true\n",
        "- comments: true\n",
        "- author: namyeon\n",
        "- categories: [python, 데이터분석]"
      ]
    },
    {
      "cell_type": "code",
      "metadata": {
        "colab": {
          "base_uri": "https://localhost:8080/"
        },
        "id": "wIi62gfcXdFV",
        "outputId": "5a2586c1-e119-407b-b1ae-89032bfb73dd"
      },
      "source": [
        "X = 3\n",
        "Y = 7\n",
        "X + Y "
      ],
      "execution_count": null,
      "outputs": [
        {
          "output_type": "execute_result",
          "data": {
            "text/plain": [
              "10"
            ]
          },
          "metadata": {
            "tags": []
          },
          "execution_count": 1
        }
      ]
    },
    {
      "cell_type": "markdown",
      "metadata": {
        "id": "sF_zGnTQYSQ9"
      },
      "source": [
        "마크다운\n",
        "# 마크다운\n",
        "## 마크다운\n",
        "### 마크다운\n",
        "\n",
        "* hello world\n",
        "* hello world\n",
        "* hello world\n",
        "\n",
        "1. hello world\n",
        "1.hello world\n",
        "1. hello world"
      ]
    },
    {
      "cell_type": "markdown",
      "metadata": {
        "id": "YkD_YPGigt0r"
      },
      "source": [
        "## 변수"
      ]
    },
    {
      "cell_type": "markdown",
      "metadata": {
        "id": "8LvXeG-wbFAf"
      },
      "source": [
        "* 대문자와 소문자는 다릅니다\n",
        "* 변수명에 띄어쓰기를 하지 않습니다\n",
        "* 맨 앞에 숫자를 사용하지 않습니다.\n",
        "* 카멜 표기법이나 스네이크 표기법 중 일반\n",
        "변수는 스네이크 표기법을 사용합니다.\n",
        "* for, if, print, sum등 이미 예약되어 있는 것은 변수로 사용하지 않습니다.\n"
      ]
    },
    {
      "cell_type": "code",
      "metadata": {
        "colab": {
          "base_uri": "https://localhost:8080/"
        },
        "id": "-8vIz3kUbO6N",
        "outputId": "8d8ff082-ec82-46e0-eb8a-c4926cf3efbb"
      },
      "source": [
        "x = 3\n",
        "y = 7\n",
        "x + y\n",
        "x - y\n",
        "x * y\n",
        "x // y\n"
      ],
      "execution_count": null,
      "outputs": [
        {
          "output_type": "execute_result",
          "data": {
            "text/plain": [
              "0"
            ]
          },
          "metadata": {
            "tags": []
          },
          "execution_count": 7
        }
      ]
    },
    {
      "cell_type": "code",
      "metadata": {
        "colab": {
          "base_uri": "https://localhost:8080/"
        },
        "id": "xPXtPVsQbrzs",
        "outputId": "bedab00c-e5a2-446a-b83d-ec18dcd7219b"
      },
      "source": [
        "x = 3\n",
        "y = 7\n",
        "print(x + y)\n",
        "print(x - y)\n",
        "print(x * y)\n",
        "print(x // y)"
      ],
      "execution_count": null,
      "outputs": [
        {
          "output_type": "stream",
          "text": [
            "10\n"
          ],
          "name": "stdout"
        }
      ]
    },
    {
      "cell_type": "code",
      "metadata": {
        "colab": {
          "base_uri": "https://localhost:8080/"
        },
        "id": "rajAgF_LcUms",
        "outputId": "dd81f6e9-575c-4940-8daf-6034e853b3c0"
      },
      "source": [
        "a = 10\n",
        "b = '10'\n",
        "print(a + a)\n",
        "print(b + b)"
      ],
      "execution_count": null,
      "outputs": [
        {
          "output_type": "stream",
          "text": [
            "20\n",
            "1010\n"
          ],
          "name": "stdout"
        }
      ]
    },
    {
      "cell_type": "code",
      "metadata": {
        "colab": {
          "base_uri": "https://localhost:8080/"
        },
        "id": "68jI-bQac8Ns",
        "outputId": "7bf5504d-c8bc-4b05-c157-0897b4cbfd81"
      },
      "source": [
        "a = 10 # int : 정수\n",
        "b = '10' # str : 문자\n",
        "c ='lee '\n",
        "d = 'hojun'\n",
        "e = True # bool : 불리언\n",
        "f = 10.1 # float : 실수\n",
        "print(type(a))"
      ],
      "execution_count": null,
      "outputs": [
        {
          "output_type": "stream",
          "text": [
            "<class 'int'>\n"
          ],
          "name": "stdout"
        }
      ]
    },
    {
      "cell_type": "code",
      "metadata": {
        "colab": {
          "base_uri": "https://localhost:8080/"
        },
        "id": "43gLNyxOd3lM",
        "outputId": "30ee13f1-622e-44e9-9b73-a5b8733f6abf"
      },
      "source": [
        "3 > 10"
      ],
      "execution_count": null,
      "outputs": [
        {
          "output_type": "execute_result",
          "data": {
            "text/plain": [
              "False"
            ]
          },
          "metadata": {
            "tags": []
          },
          "execution_count": 9
        }
      ]
    },
    {
      "cell_type": "code",
      "metadata": {
        "colab": {
          "base_uri": "https://localhost:8080/",
          "height": 172
        },
        "id": "zbgQ_zE-eK3k",
        "outputId": "da2835af-be4d-4f2f-df8a-b2d8d42d4080"
      },
      "source": [
        "a + b"
      ],
      "execution_count": null,
      "outputs": [
        {
          "output_type": "error",
          "ename": "TypeError",
          "evalue": "ignored",
          "traceback": [
            "\u001b[0;31m---------------------------------------------------------------------------\u001b[0m",
            "\u001b[0;31mTypeError\u001b[0m                                 Traceback (most recent call last)",
            "\u001b[0;32m<ipython-input-10-bd58363a63fc>\u001b[0m in \u001b[0;36m<module>\u001b[0;34m()\u001b[0m\n\u001b[0;32m----> 1\u001b[0;31m \u001b[0ma\u001b[0m \u001b[0;34m+\u001b[0m \u001b[0mb\u001b[0m\u001b[0;34m\u001b[0m\u001b[0;34m\u001b[0m\u001b[0m\n\u001b[0m",
            "\u001b[0;31mTypeError\u001b[0m: unsupported operand type(s) for +: 'int' and 'str'"
          ]
        }
      ]
    },
    {
      "cell_type": "code",
      "metadata": {
        "colab": {
          "base_uri": "https://localhost:8080/"
        },
        "id": "WrS1yz8BeOIs",
        "outputId": "dc7abf69-2dd4-440a-b5a8-c1d424b6cf86"
      },
      "source": [
        "a = [10, 20, 30, 10.1, 20.1, 30.1, 'hojun'] #list\n",
        "b = (10, 20, 30) # tuple\n",
        "c = {10, 20, 30, 30, 30} # set\n",
        "d = {'one':1, 'two':2} # dict\n",
        "print(type(a))\n"
      ],
      "execution_count": null,
      "outputs": [
        {
          "output_type": "stream",
          "text": [
            "<class 'list'>\n"
          ],
          "name": "stdout"
        }
      ]
    },
    {
      "cell_type": "code",
      "metadata": {
        "colab": {
          "base_uri": "https://localhost:8080/"
        },
        "id": "pgiuENpsfet8",
        "outputId": "703940ac-88c5-4f2b-9f9c-58cddaa0da84"
      },
      "source": [
        "a.pop()\n",
        "sum(a)"
      ],
      "execution_count": null,
      "outputs": [
        {
          "output_type": "execute_result",
          "data": {
            "text/plain": [
              "90.19999999999999"
            ]
          },
          "metadata": {
            "tags": []
          },
          "execution_count": 13
        }
      ]
    },
    {
      "cell_type": "code",
      "metadata": {
        "id": "CN3fLMqfjo6k"
      },
      "source": [
        "a = 10\n",
        "b = '10'\n",
        "print(str(a) + b)\n",
        "print(a + ) "
      ],
      "execution_count": null,
      "outputs": []
    },
    {
      "cell_type": "markdown",
      "metadata": {
        "id": "ePyCvf-0goqj"
      },
      "source": [
        "## 형변환"
      ]
    },
    {
      "cell_type": "markdown",
      "metadata": {
        "id": "5kpVMHuyk3sM"
      },
      "source": [
        "##산술연산"
      ]
    },
    {
      "cell_type": "code",
      "metadata": {
        "colab": {
          "base_uri": "https://localhost:8080/"
        },
        "id": "4mTjdO7wk630",
        "outputId": "2c309f1a-5611-44ea-b978-387e2e4e6671"
      },
      "source": [
        "a = 7\n",
        "b = 3\n",
        "print(a + b)\n",
        "print(a - b)\n",
        "print(a * b)\n",
        "print(a / b)\n",
        "print(a // b)\n",
        "print(a ** b)"
      ],
      "execution_count": null,
      "outputs": [
        {
          "output_type": "stream",
          "text": [
            "10\n",
            "4\n",
            "21\n",
            "2.3333333333333335\n",
            "2\n",
            "343\n"
          ],
          "name": "stdout"
        }
      ]
    },
    {
      "cell_type": "code",
      "metadata": {
        "id": "j_t2sv7El25N"
      },
      "source": [
        ""
      ],
      "execution_count": null,
      "outputs": []
    },
    {
      "cell_type": "markdown",
      "metadata": {
        "id": "agPmHI-qmBgU"
      },
      "source": [
        "##비교연산"
      ]
    },
    {
      "cell_type": "code",
      "metadata": {
        "colab": {
          "base_uri": "https://localhost:8080/"
        },
        "id": "XjGcSw59mJAy",
        "outputId": "68049dcb-c735-4290-e383-6c88cbb987c1"
      },
      "source": [
        "a = 3\n",
        "b = 5\n",
        "print(a > b)\n",
        "print(a >= b)\n",
        "print(a < b)\n",
        "print(a <= b)\n",
        "print(a == b)\n",
        "print(a % b)"
      ],
      "execution_count": null,
      "outputs": [
        {
          "output_type": "stream",
          "text": [
            "False\n",
            "False\n",
            "True\n",
            "True\n",
            "False\n",
            "True\n"
          ],
          "name": "stdout"
        }
      ]
    },
    {
      "cell_type": "markdown",
      "metadata": {
        "id": "FelaOdoaouAq"
      },
      "source": [
        "##논리연산"
      ]
    },
    {
      "cell_type": "code",
      "metadata": {
        "colab": {
          "base_uri": "https://localhost:8080/"
        },
        "id": "vdpEkYaBo_oD",
        "outputId": "d8d2f1c8-2637-43f2-fcae-86711c4ae2e9"
      },
      "source": [
        "#주석입니다. 주석은 실행하지 않습니다.\n",
        "a = 10\n",
        "b = 20\n",
        "a + b"
      ],
      "execution_count": null,
      "outputs": [
        {
          "output_type": "execute_result",
          "data": {
            "text/plain": [
              "30"
            ]
          },
          "metadata": {
            "tags": []
          },
          "execution_count": 17
        }
      ]
    },
    {
      "cell_type": "code",
      "metadata": {
        "colab": {
          "base_uri": "https://localhost:8080/"
        },
        "id": "t9GEtK8KoySN",
        "outputId": "54ae39e1-3f39-4259-d397-92db7c122964"
      },
      "source": [
        "a = True #1\n",
        "b = False #0\n",
        "\n",
        "print(a and b)\n",
        "print(a or b)\n",
        "print(not a)"
      ],
      "execution_count": null,
      "outputs": [
        {
          "output_type": "stream",
          "text": [
            "False\n",
            "True\n",
            "False\n"
          ],
          "name": "stdout"
        }
      ]
    },
    {
      "cell_type": "code",
      "metadata": {
        "colab": {
          "base_uri": "https://localhost:8080/"
        },
        "id": "DxHpjzVAqm2c",
        "outputId": "830eeb8b-34c1-40ce-9712-9c14139f6c1f"
      },
      "source": [
        "result = 0\n",
        "for i in range(1001):\n",
        "    if i % 3 == 0 or i % 5 == 0:\n",
        "        result = result + i\n",
        "\n",
        "print(result)"
      ],
      "execution_count": null,
      "outputs": [
        {
          "output_type": "stream",
          "text": [
            "234168\n"
          ],
          "name": "stdout"
        }
      ]
    },
    {
      "cell_type": "markdown",
      "metadata": {
        "id": "z6DX6jcEw1rD"
      },
      "source": [
        "## 문자열"
      ]
    },
    {
      "cell_type": "code",
      "metadata": {
        "id": "HYyXk8w7w9Fx"
      },
      "source": [
        "s = 'paullab CEO leehojun'"
      ],
      "execution_count": null,
      "outputs": []
    },
    {
      "cell_type": "code",
      "metadata": {
        "colab": {
          "base_uri": "https://localhost:8080/"
        },
        "id": "qQTaM5S6xH76",
        "outputId": "c30f6d61-06c6-4a94-83ad-519ee9044adf"
      },
      "source": [
        "s.count('l')"
      ],
      "execution_count": null,
      "outputs": [
        {
          "output_type": "execute_result",
          "data": {
            "text/plain": [
              "3"
            ]
          },
          "metadata": {
            "tags": []
          },
          "execution_count": 32
        }
      ]
    },
    {
      "cell_type": "code",
      "metadata": {
        "colab": {
          "base_uri": "https://localhost:8080/"
        },
        "id": "gyRCfwGbxkX6",
        "outputId": "a2d853dc-7582-4e74-f1d4-2202dbd7eb1e"
      },
      "source": [
        "s.count(' ')"
      ],
      "execution_count": null,
      "outputs": [
        {
          "output_type": "execute_result",
          "data": {
            "text/plain": [
              "2"
            ]
          },
          "metadata": {
            "tags": []
          },
          "execution_count": 34
        }
      ]
    },
    {
      "cell_type": "code",
      "metadata": {
        "colab": {
          "base_uri": "https://localhost:8080/",
          "height": 35
        },
        "id": "ySk3yTGRx2mz",
        "outputId": "9da51822-f8f7-438d-cf56-62a75fdde66d"
      },
      "source": [
        "s.upper()"
      ],
      "execution_count": null,
      "outputs": [
        {
          "output_type": "execute_result",
          "data": {
            "application/vnd.google.colaboratory.intrinsic+json": {
              "type": "string"
            },
            "text/plain": [
              "'PAULLAB CEO LEEHOJUN'"
            ]
          },
          "metadata": {
            "tags": []
          },
          "execution_count": 37
        }
      ]
    },
    {
      "cell_type": "code",
      "metadata": {
        "colab": {
          "base_uri": "https://localhost:8080/",
          "height": 35
        },
        "id": "Z9LWYJBix7oL",
        "outputId": "67ee93d2-b8a3-476a-dcf1-b20d25053d9d"
      },
      "source": [
        "s.lower()"
      ],
      "execution_count": null,
      "outputs": [
        {
          "output_type": "execute_result",
          "data": {
            "application/vnd.google.colaboratory.intrinsic+json": {
              "type": "string"
            },
            "text/plain": [
              "'paullab ceo leehojun'"
            ]
          },
          "metadata": {
            "tags": []
          },
          "execution_count": 35
        }
      ]
    },
    {
      "cell_type": "code",
      "metadata": {
        "colab": {
          "base_uri": "https://localhost:8080/"
        },
        "id": "dRrROAcKx-2T",
        "outputId": "98f7993d-494a-478a-aa42-b6a3cbfab4e7"
      },
      "source": [
        "s.split(' ')"
      ],
      "execution_count": null,
      "outputs": [
        {
          "output_type": "execute_result",
          "data": {
            "text/plain": [
              "['paullab', 'CEO', 'leehojun']"
            ]
          },
          "metadata": {
            "tags": []
          },
          "execution_count": 36
        }
      ]
    },
    {
      "cell_type": "code",
      "metadata": {
        "colab": {
          "base_uri": "https://localhost:8080/",
          "height": 35
        },
        "id": "8eNV75UPyOtj",
        "outputId": "14e3a4a5-6d52-4e28-ff08-89523bb9bfad"
      },
      "source": [
        "'-'.join(['a', 'b', 'c'])"
      ],
      "execution_count": null,
      "outputs": [
        {
          "output_type": "execute_result",
          "data": {
            "application/vnd.google.colaboratory.intrinsic+json": {
              "type": "string"
            },
            "text/plain": [
              "'a-b-c'"
            ]
          },
          "metadata": {
            "tags": []
          },
          "execution_count": 39
        }
      ]
    },
    {
      "cell_type": "code",
      "metadata": {
        "colab": {
          "base_uri": "https://localhost:8080/",
          "height": 35
        },
        "id": "Gs_XibhlzKwT",
        "outputId": "08f77146-be45-4b23-d944-1a2ac206d48f"
      },
      "source": [
        "d = s.split(' ')\n",
        "'-'.join(d)\n"
      ],
      "execution_count": null,
      "outputs": [
        {
          "output_type": "execute_result",
          "data": {
            "application/vnd.google.colaboratory.intrinsic+json": {
              "type": "string"
            },
            "text/plain": [
              "'paullab-CEO-leehojun'"
            ]
          },
          "metadata": {
            "tags": []
          },
          "execution_count": 40
        }
      ]
    },
    {
      "cell_type": "code",
      "metadata": {
        "colab": {
          "base_uri": "https://localhost:8080/"
        },
        "id": "meBwWxFHzpMr",
        "outputId": "41078c7e-3ccd-4538-d73c-2be140ec89d9"
      },
      "source": [
        "s= '          hello world'\n",
        "print(s)\n",
        "print(s.strip())\n",
        "print(s.replace(' ',''))"
      ],
      "execution_count": null,
      "outputs": [
        {
          "output_type": "stream",
          "text": [
            "          hello world\n",
            "hello world\n",
            "helloworld\n"
          ],
          "name": "stdout"
        }
      ]
    },
    {
      "cell_type": "markdown",
      "metadata": {
        "id": "EnhDVDRwcV1f"
      },
      "source": [
        "## 리스트\n",
        "\n",
        "* 순서가 있고, 수정이 가능합니다."
      ]
    },
    {
      "cell_type": "code",
      "metadata": {
        "colab": {
          "base_uri": "https://localhost:8080/"
        },
        "id": "H5Nz8MyMcg2P",
        "outputId": "ad1666dc-37d0-4eb6-cc5f-a80ed64f6621"
      },
      "source": [
        "a = [10, 20, 30, 40, 50, 60, 70, 15]\n",
        "a\n",
        "a[0] # 0은 인덱스이고, a[0] 호출하는 것을 indexing이라고 합니다.\n",
        "a[0], a[1], a[2], a[3], a[4]\n",
        "a[0:5] #슬라이싱, 자료형[start:stop:step]\n",
        "a[::2] #슬라이싱, 자료형[start:stop:step], 자주 안쓴다\n",
        "a[::-1] #슬라이싱, 자료형[start:stop:step]\n",
        "a[0] = 1000\n",
        "a"
      ],
      "execution_count": null,
      "outputs": [
        {
          "output_type": "execute_result",
          "data": {
            "text/plain": [
              "[15, 70, 60, 50, 40, 30, 20, 10]"
            ]
          },
          "metadata": {
            "tags": []
          },
          "execution_count": 7
        }
      ]
    },
    {
      "cell_type": "code",
      "metadata": {
        "colab": {
          "base_uri": "https://localhost:8080/"
        },
        "id": "StdNjP0pc5Sv",
        "outputId": "04fc8319-98af-4597-881c-642888d0cb2e"
      },
      "source": [
        "dir(a)\n",
        "\n",
        "a.append(10) # 값을 맨 뒤에 추가합니다.\n",
        "a.clear() # a에 모든 값을 비웁니다. 안써요\n",
        "a.copy() # a에 모든 값을 복사합니다\n",
        "a.count() # a 에서 특정한 값의 개수를 찾습니다.\n",
        "a.extend([10, 20, 30]) # a에 맨 뒤에 여러개의 값을 추가합니다.\n",
        "a.index() # a에서 특정한 값의 인덱스를 찾습니다.\n",
        "a.insert(2. 10000) # a의 중간에 값을 삽입합니다.\n",
        "a.pop() # a에 맨 뒤에 값을 빼냅니다. 빼낸 값은 삭제됩니다. 잘써요\n",
        "a.remove(10000) # a에 특정한 값을 삭제합니다.\n",
        "a.reverse() # a에 값을 뒤집습니다. 잘써요\n",
        "a.sort() # a의 값을 정렬합니다. 잘써요"
      ],
      "execution_count": null,
      "outputs": [
        {
          "output_type": "execute_result",
          "data": {
            "text/plain": [
              "['__add__',\n",
              " '__class__',\n",
              " '__contains__',\n",
              " '__delattr__',\n",
              " '__delitem__',\n",
              " '__dir__',\n",
              " '__doc__',\n",
              " '__eq__',\n",
              " '__format__',\n",
              " '__ge__',\n",
              " '__getattribute__',\n",
              " '__getitem__',\n",
              " '__gt__',\n",
              " '__hash__',\n",
              " '__iadd__',\n",
              " '__imul__',\n",
              " '__init__',\n",
              " '__init_subclass__',\n",
              " '__iter__',\n",
              " '__le__',\n",
              " '__len__',\n",
              " '__lt__',\n",
              " '__mul__',\n",
              " '__ne__',\n",
              " '__new__',\n",
              " '__reduce__',\n",
              " '__reduce_ex__',\n",
              " '__repr__',\n",
              " '__reversed__',\n",
              " '__rmul__',\n",
              " '__setattr__',\n",
              " '__setitem__',\n",
              " '__sizeof__',\n",
              " '__str__',\n",
              " '__subclasshook__',\n",
              " 'append',\n",
              " 'clear',\n",
              " 'copy',\n",
              " 'count',\n",
              " 'extend',\n",
              " 'index',\n",
              " 'insert',\n",
              " 'pop',\n",
              " 'remove',\n",
              " 'reverse',\n",
              " 'sort']"
            ]
          },
          "metadata": {
            "tags": []
          },
          "execution_count": 8
        }
      ]
    },
    {
      "cell_type": "code",
      "metadata": {
        "colab": {
          "base_uri": "https://localhost:8080/"
        },
        "id": "rhlXAKxWgacv",
        "outputId": "3d9b098b-6a47-44db-dfcc-ee3a1ead1fd4"
      },
      "source": [
        "a.append(100)\n",
        "a.append(100)\n",
        "a "
      ],
      "execution_count": null,
      "outputs": [
        {
          "output_type": "execute_result",
          "data": {
            "text/plain": [
              "[10, 15, 20, 30, 40, 50, 60, 70, 100, 100, 100, 100, 100, 100]"
            ]
          },
          "metadata": {
            "tags": []
          },
          "execution_count": 18
        }
      ]
    },
    {
      "cell_type": "code",
      "metadata": {
        "colab": {
          "base_uri": "https://localhost:8080/"
        },
        "id": "mecIF5gzhIXf",
        "outputId": "94fbdcf4-0d8d-4b95-e0c8-3849ffbac038"
      },
      "source": [
        "a.count(100)"
      ],
      "execution_count": null,
      "outputs": [
        {
          "output_type": "execute_result",
          "data": {
            "text/plain": [
              "6"
            ]
          },
          "metadata": {
            "tags": []
          },
          "execution_count": 19
        }
      ]
    },
    {
      "cell_type": "code",
      "metadata": {
        "colab": {
          "base_uri": "https://localhost:8080/"
        },
        "id": "I1TZws7ShfNY",
        "outputId": "a2ee4b0d-ee39-4006-9c60-b2a91f5850a8"
      },
      "source": [
        "a.sort()\n",
        "a"
      ],
      "execution_count": null,
      "outputs": [
        {
          "output_type": "execute_result",
          "data": {
            "text/plain": [
              "[10, 15, 20, 30, 40, 50, 60, 70, 100, 100, 100, 100, 100, 100]"
            ]
          },
          "metadata": {
            "tags": []
          },
          "execution_count": 20
        }
      ]
    },
    {
      "cell_type": "code",
      "metadata": {
        "colab": {
          "base_uri": "https://localhost:8080/"
        },
        "id": "xqDOCjIchj6H",
        "outputId": "021e1e78-59f0-4d5d-f85f-c15f2ccd1171"
      },
      "source": [
        "a.reverse()\n",
        "a"
      ],
      "execution_count": null,
      "outputs": [
        {
          "output_type": "execute_result",
          "data": {
            "text/plain": [
              "[100, 100, 100, 100, 100, 100, 70, 60, 50, 40, 30, 20, 15, 10]"
            ]
          },
          "metadata": {
            "tags": []
          },
          "execution_count": 21
        }
      ]
    },
    {
      "cell_type": "markdown",
      "metadata": {
        "id": "acs6ZPxBip-p"
      },
      "source": [
        "## 튜플, 딕셔너리, 셋"
      ]
    },
    {
      "cell_type": "code",
      "metadata": {
        "colab": {
          "base_uri": "https://localhost:8080/"
        },
        "id": "W8c30ss6itoX",
        "outputId": "7ba7e0bf-666e-4d29-ce84-efb2d4f5fc95"
      },
      "source": [
        "# 튜플은 순서가 있고 값을 변경할 수 없습니다.\n",
        "\n",
        "t = (10,20,30)\n",
        "t"
      ],
      "execution_count": null,
      "outputs": [
        {
          "output_type": "execute_result",
          "data": {
            "text/plain": [
              "(10, 20, 30)"
            ]
          },
          "metadata": {
            "tags": []
          },
          "execution_count": 22
        }
      ]
    },
    {
      "cell_type": "code",
      "metadata": {
        "id": "pZhrtqWQi7fB"
      },
      "source": [
        "dir(t)\n"
      ],
      "execution_count": null,
      "outputs": []
    },
    {
      "cell_type": "code",
      "metadata": {
        "colab": {
          "base_uri": "https://localhost:8080/",
          "height": 35
        },
        "id": "0vaYS5_6jc6Z",
        "outputId": "509adfbb-7df3-47dd-d91c-37576fad6594"
      },
      "source": [
        "# 딕셔너리\n",
        "\n",
        "영한번역 = {'one' : '하나', 'two' : '둘'}\n",
        "영한번역['one']"
      ],
      "execution_count": null,
      "outputs": [
        {
          "output_type": "execute_result",
          "data": {
            "application/vnd.google.colaboratory.intrinsic+json": {
              "type": "string"
            },
            "text/plain": [
              "'하나'"
            ]
          },
          "metadata": {
            "tags": []
          },
          "execution_count": 23
        }
      ]
    },
    {
      "cell_type": "code",
      "metadata": {
        "colab": {
          "base_uri": "https://localhost:8080/"
        },
        "id": "UWWrSO5Zn49Y",
        "outputId": "c319dd8e-cba8-4650-a5fb-36f837853f80"
      },
      "source": [
        "# 셋 (집합, 합집합, 차집합, 교집합)\n",
        "\n",
        "s = {10, 20, 30, 30, 30}\n",
        "s"
      ],
      "execution_count": null,
      "outputs": [
        {
          "output_type": "execute_result",
          "data": {
            "text/plain": [
              "{10, 20, 30}"
            ]
          },
          "metadata": {
            "tags": []
          },
          "execution_count": 24
        }
      ]
    },
    {
      "cell_type": "code",
      "metadata": {
        "id": "n5ACdClWoLq_"
      },
      "source": [
        "s = {10, 20, 30, 30, 30}\n",
        "ss = {10, 40, 50}\n",
        "s | ss # 합집합\n",
        "s & ss # 교집합\n",
        "s - ss # 차집합"
      ],
      "execution_count": null,
      "outputs": []
    },
    {
      "cell_type": "markdown",
      "metadata": {
        "id": "mWn4EmJQo_JQ"
      },
      "source": [
        "f-string"
      ]
    },
    {
      "cell_type": "code",
      "metadata": {
        "colab": {
          "base_uri": "https://localhost:8080/"
        },
        "id": "NoVWaMrypDlP",
        "outputId": "dd9df3ae-8cb3-4b6e-faaf-040ec5bf8c45"
      },
      "source": [
        "age = 10\n",
        "name = 'leehojun'\n",
        "print('제 이름은 leehojun 입니다. 제 나이는 10 살입니다.')\n",
        "print('제 이름은', name, '입니다. 제 나이는 ', age, '살입니다.')\n",
        "print('제 이름은 {0} 입니다. 제 나이는 {1} 살입니다.'.format(name,age))\n",
        "print(f'제 이름은 {name} 입니다. 제 나이는 {age+age} 살입니다.') #이것만 씁시다!"
      ],
      "execution_count": null,
      "outputs": [
        {
          "output_type": "stream",
          "text": [
            "제 이름은 leehojun 입니다. 제 나이는 10 살입니다.\n",
            "제 이름은 leehojun 입니다. 제 나이는  10 살입니다.\n",
            "제 이름은 leehojun 입니다. 제 나이는 10 살입니다.\n",
            "제 이름은 leehojun 입니다. 제 나이는 20 살입니다.\n"
          ],
          "name": "stdout"
        }
      ]
    },
    {
      "cell_type": "markdown",
      "metadata": {
        "id": "gdoby_9Crwow"
      },
      "source": [
        "## Builtin function\n",
        "\n",
        "* abs() : 절대값\n",
        "* min() : 최솟값\n",
        "* max() : 최댓값\n",
        "* dir() : 매서드 확인\n",
        "* id() : 메모리 주소 확인\n",
        "* sorted() : 정렬\n",
        "* reversed() : 역순(역정렬 아님)\n",
        "* enumerate() : 순서를 매김 (for 하면서 설명)\n",
        "* 형변환 : \n",
        "    * set() : 집합으로 형변환\n",
        "    * dict() : 딕셔너리로 형변환\n",
        "    * bool() : 불리언으로 형변화\n",
        "    * int() : 정수형으로 형변환 \n",
        "    * str() : 문자열로 형변환\n",
        "    * float() : 실수형으로 형변환\n",
        "    * tuple() : 튜플형으로 형변환\n",
        "* ord() : 문자를 숫자로 변환\n",
        "* chr() : 숫자를 문자로 변환\n",
        "* sum() : 전부 더함\n",
        "* filter() : 필터링(수학점수 90점 이상인 사람?)\n",
        "* plint() : 출력\n",
        "* format() : 콤마찍기\n",
        "* len() : 길이출력, 중요 !!\n",
        "* type() : 타입 알아보기 중요 \n",
        "* range() : 연속된 값 생성(0~99->range(100))\n",
        "* zip('abc','def')\n",
        "* map(lambda x:x**2,[1,2,3])\n",
        "* round():소수점 자리 반올림"
      ]
    },
    {
      "cell_type": "code",
      "metadata": {
        "colab": {
          "base_uri": "https://localhost:8080/"
        },
        "id": "CbD3pwaHxGRg",
        "outputId": "6365e7b1-bd20-4cf8-d31d-5c23fb63442d"
      },
      "source": [
        "list(zip('abc', 'def', 'aaa'))\n"
      ],
      "execution_count": null,
      "outputs": [
        {
          "output_type": "execute_result",
          "data": {
            "text/plain": [
              "[('a', 'd', 'a'), ('b', 'e', 'a'), ('c', 'f', 'a')]"
            ]
          },
          "metadata": {
            "tags": []
          },
          "execution_count": 31
        }
      ]
    },
    {
      "cell_type": "markdown",
      "metadata": {
        "id": "wr7rLVtL0LIP"
      },
      "source": [
        "## 조건문"
      ]
    },
    {
      "cell_type": "code",
      "metadata": {
        "colab": {
          "base_uri": "https://localhost:8080/"
        },
        "id": "fqK1y4rX1FZ5",
        "outputId": "fc6a627f-918f-4e4d-d448-23f17630feba"
      },
      "source": [
        "if True:\n",
        "    print('hello')\n",
        "print('end')"
      ],
      "execution_count": null,
      "outputs": [
        {
          "output_type": "stream",
          "text": [
            "hello\n",
            "end\n"
          ],
          "name": "stdout"
        }
      ]
    },
    {
      "cell_type": "code",
      "metadata": {
        "colab": {
          "base_uri": "https://localhost:8080/"
        },
        "id": "8rXefXSs0OEX",
        "outputId": "50d4058c-b0da-4802-c7fb-73dbb9f7234a"
      },
      "source": [
        "score = 89\n",
        "money = 0\n",
        "\n",
        "if score > 90:\n",
        "    print('mom : i\\m so happy')\n",
        "    money += 100000 # money = money + 1000000, 할당연산이라 부릅니다.\n",
        "elif score > 80:\n",
        "    print('mom : i\\m happy')\n",
        "    money += 100000\n",
        "elif score > 70:\n",
        "    print('mom : happy?')\n",
        "    money += 10000\n",
        "else:\n",
        "    print('mom : ...')\n",
        "\n",
        "print(money)    "
      ],
      "execution_count": null,
      "outputs": [
        {
          "output_type": "stream",
          "text": [
            "mom : im happy\n",
            "100000\n"
          ],
          "name": "stdout"
        }
      ]
    },
    {
      "cell_type": "markdown",
      "metadata": {
        "id": "YeKl4tsF2o5A"
      },
      "source": [
        "## 문제 풀이와 업다운 게임 시작"
      ]
    },
    {
      "cell_type": "code",
      "metadata": {
        "colab": {
          "base_uri": "https://localhost:8080/"
        },
        "id": "fmAFsSNK2tVI",
        "outputId": "b9b3efea-fea1-4a09-9e6f-2e06c886c48d"
      },
      "source": [
        "str(list(range(100)))\n",
        "str(list(range(100))).count('8')\n",
        "str(list(range(10001))).count('8')"
      ],
      "execution_count": null,
      "outputs": [
        {
          "output_type": "execute_result",
          "data": {
            "text/plain": [
              "4000"
            ]
          },
          "metadata": {
            "tags": []
          },
          "execution_count": 37
        }
      ]
    },
    {
      "cell_type": "code",
      "metadata": {
        "id": "GTus67Jh4tlw"
      },
      "source": [
        "리스트 = [1, 3, 4, 8, 13, 17, 20]\n",
        "리스트둘 = 리스트[1:]"
      ],
      "execution_count": null,
      "outputs": []
    },
    {
      "cell_type": "code",
      "metadata": {
        "colab": {
          "base_uri": "https://localhost:8080/"
        },
        "id": "FXeHrAz_5LFv",
        "outputId": "247381bc-aff2-45a2-b6b0-3daf7af2fe29"
      },
      "source": [
        "list(zip(리스트, 리스트둘))"
      ],
      "execution_count": null,
      "outputs": [
        {
          "output_type": "execute_result",
          "data": {
            "text/plain": [
              "[(1, 3), (3, 4), (4, 8), (8, 13), (13, 17), (17, 20)]"
            ]
          },
          "metadata": {
            "tags": []
          },
          "execution_count": 41
        }
      ]
    },
    {
      "cell_type": "code",
      "metadata": {
        "colab": {
          "base_uri": "https://localhost:8080/"
        },
        "id": "s_TaF-Zk5WeI",
        "outputId": "0e690cef-4a22-4e00-c9e1-b1a8610af212"
      },
      "source": [
        "묶어준리스트 = list(zip(리스트, 리스트둘))\n",
        "묶어준리스트.sort(key=lambda x:x[0]-x[1], reverse=True)\n",
        "묶어준리스트\n",
        "묶어준리스트[0]"
      ],
      "execution_count": null,
      "outputs": [
        {
          "output_type": "execute_result",
          "data": {
            "text/plain": [
              "(3, 4)"
            ]
          },
          "metadata": {
            "tags": []
          },
          "execution_count": 44
        }
      ]
    },
    {
      "cell_type": "code",
      "metadata": {
        "id": "398XAHxc6yzA"
      },
      "source": [
        "l = ['a', 'bbb', 'cc', 'eeeee', 'dddd']"
      ],
      "execution_count": null,
      "outputs": []
    },
    {
      "cell_type": "code",
      "metadata": {
        "colab": {
          "base_uri": "https://localhost:8080/"
        },
        "id": "YU3ZOGeq7DdA",
        "outputId": "b7b25c7c-ef1f-4ae9-f3e5-158f4a0faa4e"
      },
      "source": [
        "import random\n",
        "정답 = random.randint(1,100)\n",
        "\n",
        "while True:\n",
        "    user = int(input('숫자를 입력해주세요.'))\n",
        "    if user < 정답:\n",
        "        print('up')\n",
        "    elif user > 정답:\n",
        "        print('Down')\n",
        "    else:\n",
        "        print('정답!')\n",
        "        break"
      ],
      "execution_count": null,
      "outputs": [
        {
          "output_type": "stream",
          "text": [
            "숫자를 입력해주세요.20\n",
            "up\n",
            "숫자를 입력해주세요.60\n",
            "up\n",
            "숫자를 입력해주세요.70\n",
            "Down\n",
            "숫자를 입력해주세요.65\n",
            "up\n",
            "숫자를 입력해주세요.68\n",
            "정답!\n"
          ],
          "name": "stdout"
        }
      ]
    },
    {
      "cell_type": "markdown",
      "metadata": {
        "id": "ToQmSQbr-aMH"
      },
      "source": [
        "##반복문"
      ]
    },
    {
      "cell_type": "code",
      "metadata": {
        "colab": {
          "base_uri": "https://localhost:8080/"
        },
        "id": "K3rgPbHBBu4_",
        "outputId": "c4ba5996-73e9-4868-a224-4d96e6fd9bd9"
      },
      "source": [
        "list(range(10)) # stop\n",
        "list(range(0, 10, 2)) # start, stop, step\n",
        "list(range(5, 10)) # start, stop\n",
        "list(range(10, 5, -1)) # start, stop, step"
      ],
      "execution_count": null,
      "outputs": [
        {
          "output_type": "execute_result",
          "data": {
            "text/plain": [
              "[10, 9, 8, 7, 6]"
            ]
          },
          "metadata": {
            "tags": []
          },
          "execution_count": 51
        }
      ]
    },
    {
      "cell_type": "code",
      "metadata": {
        "colab": {
          "base_uri": "https://localhost:8080/"
        },
        "id": "UTMLYzLH-cvP",
        "outputId": "69b4602f-4d08-4013-c5eb-478b21348fd4"
      },
      "source": [
        "s = 0\n",
        "for i in range(0, 101, 2):\n",
        "    s = s + i # s += 1\n",
        "\n",
        "print(s)"
      ],
      "execution_count": null,
      "outputs": [
        {
          "output_type": "stream",
          "text": [
            "5050\n"
          ],
          "name": "stdout"
        }
      ]
    },
    {
      "cell_type": "code",
      "metadata": {
        "colab": {
          "base_uri": "https://localhost:8080/"
        },
        "id": "b5LuQhKMCeLU",
        "outputId": "49be573d-5a31-4cd7-ad61-a7e20810d878"
      },
      "source": [
        "sum(range(0, 101, 2))"
      ],
      "execution_count": null,
      "outputs": [
        {
          "output_type": "execute_result",
          "data": {
            "text/plain": [
              "2550"
            ]
          },
          "metadata": {
            "tags": []
          },
          "execution_count": 57
        }
      ]
    },
    {
      "cell_type": "code",
      "metadata": {
        "colab": {
          "base_uri": "https://localhost:8080/"
        },
        "id": "9vZysDTIFUNP",
        "outputId": "e6e9b578-60f4-4a5a-cc59-2cc0568ba00d"
      },
      "source": [
        "for i in range(1, 10):\n",
        "    print(f'{2} X {i} = {2 * i}')\n",
        "    "
      ],
      "execution_count": null,
      "outputs": [
        {
          "output_type": "stream",
          "text": [
            "2 X 1 = 2\n",
            "2 X 2 = 4\n",
            "2 X 3 = 6\n",
            "2 X 4 = 8\n",
            "2 X 5 = 10\n",
            "2 X 6 = 12\n",
            "2 X 7 = 14\n",
            "2 X 8 = 16\n",
            "2 X 9 = 18\n"
          ],
          "name": "stdout"
        }
      ]
    },
    {
      "cell_type": "code",
      "metadata": {
        "colab": {
          "base_uri": "https://localhost:8080/"
        },
        "id": "XPDGYeSHF0FH",
        "outputId": "747cca10-8f2c-4a25-f45d-f68ef740af79"
      },
      "source": [
        "for 단 in range(2, 10):\n",
        "    for i in range(1, 10):\n",
        "        print(f'{단} X {i} = {단 * i}')"
      ],
      "execution_count": null,
      "outputs": [
        {
          "output_type": "stream",
          "text": [
            "2 X 1 = 2\n",
            "2 X 2 = 4\n",
            "2 X 3 = 6\n",
            "2 X 4 = 8\n",
            "2 X 5 = 10\n",
            "2 X 6 = 12\n",
            "2 X 7 = 14\n",
            "2 X 8 = 16\n",
            "2 X 9 = 18\n",
            "3 X 1 = 3\n",
            "3 X 2 = 6\n",
            "3 X 3 = 9\n",
            "3 X 4 = 12\n",
            "3 X 5 = 15\n",
            "3 X 6 = 18\n",
            "3 X 7 = 21\n",
            "3 X 8 = 24\n",
            "3 X 9 = 27\n",
            "4 X 1 = 4\n",
            "4 X 2 = 8\n",
            "4 X 3 = 12\n",
            "4 X 4 = 16\n",
            "4 X 5 = 20\n",
            "4 X 6 = 24\n",
            "4 X 7 = 28\n",
            "4 X 8 = 32\n",
            "4 X 9 = 36\n",
            "5 X 1 = 5\n",
            "5 X 2 = 10\n",
            "5 X 3 = 15\n",
            "5 X 4 = 20\n",
            "5 X 5 = 25\n",
            "5 X 6 = 30\n",
            "5 X 7 = 35\n",
            "5 X 8 = 40\n",
            "5 X 9 = 45\n",
            "6 X 1 = 6\n",
            "6 X 2 = 12\n",
            "6 X 3 = 18\n",
            "6 X 4 = 24\n",
            "6 X 5 = 30\n",
            "6 X 6 = 36\n",
            "6 X 7 = 42\n",
            "6 X 8 = 48\n",
            "6 X 9 = 54\n",
            "7 X 1 = 7\n",
            "7 X 2 = 14\n",
            "7 X 3 = 21\n",
            "7 X 4 = 28\n",
            "7 X 5 = 35\n",
            "7 X 6 = 42\n",
            "7 X 7 = 49\n",
            "7 X 8 = 56\n",
            "7 X 9 = 63\n",
            "8 X 1 = 8\n",
            "8 X 2 = 16\n",
            "8 X 3 = 24\n",
            "8 X 4 = 32\n",
            "8 X 5 = 40\n",
            "8 X 6 = 48\n",
            "8 X 7 = 56\n",
            "8 X 8 = 64\n",
            "8 X 9 = 72\n",
            "9 X 1 = 9\n",
            "9 X 2 = 18\n",
            "9 X 3 = 27\n",
            "9 X 4 = 36\n",
            "9 X 5 = 45\n",
            "9 X 6 = 54\n",
            "9 X 7 = 63\n",
            "9 X 8 = 72\n",
            "9 X 9 = 81\n"
          ],
          "name": "stdout"
        }
      ]
    },
    {
      "cell_type": "code",
      "metadata": {
        "colab": {
          "base_uri": "https://localhost:8080/"
        },
        "id": "4zZMtc0RGYAf",
        "outputId": "ed84951e-019e-4955-d27e-68a408098125"
      },
      "source": [
        "x = 1\n",
        "while x < 10 :\n",
        "    print(f'{2} X {i} = {2 * i}')\n",
        "    x += 1"
      ],
      "execution_count": null,
      "outputs": [
        {
          "output_type": "stream",
          "text": [
            "2 X 9 = 18\n",
            "2 X 9 = 18\n",
            "2 X 9 = 18\n",
            "2 X 9 = 18\n",
            "2 X 9 = 18\n",
            "2 X 9 = 18\n",
            "2 X 9 = 18\n",
            "2 X 9 = 18\n",
            "2 X 9 = 18\n"
          ],
          "name": "stdout"
        }
      ]
    },
    {
      "cell_type": "markdown",
      "metadata": {
        "id": "d9QmOpLrIC2B"
      },
      "source": [
        "모듈"
      ]
    },
    {
      "cell_type": "code",
      "metadata": {
        "id": "4viR4bfaIEeo"
      },
      "source": [
        "#filenamem = test.py\n",
        "# name = 'namyeon'\n",
        "# age = 10"
      ],
      "execution_count": null,
      "outputs": []
    },
    {
      "cell_type": "code",
      "metadata": {
        "colab": {
          "base_uri": "https://localhost:8080/"
        },
        "id": "rK6ILnG3JxII",
        "outputId": "a0681611-7dba-42ea-8689-01e9e55652ff"
      },
      "source": [
        "# import test\n",
        "import test as t\n",
        "\n",
        "print(t.name)\n",
        "print(t.age)"
      ],
      "execution_count": null,
      "outputs": [
        {
          "output_type": "stream",
          "text": [
            "namyeon\n",
            "10\n"
          ],
          "name": "stdout"
        }
      ]
    },
    {
      "cell_type": "code",
      "metadata": {
        "colab": {
          "base_uri": "https://localhost:8080/"
        },
        "id": "aOuHS2WwKSVP",
        "outputId": "a2d5351e-f783-4679-c2dc-80b7a0bb4ffd"
      },
      "source": [
        "from test import name, age\n",
        "\n",
        "print(name)\n",
        "print(age)"
      ],
      "execution_count": null,
      "outputs": [
        {
          "output_type": "stream",
          "text": [
            "namyeon\n",
            "10\n"
          ],
          "name": "stdout"
        }
      ]
    },
    {
      "cell_type": "markdown",
      "metadata": {
        "id": "0s9SdOHg7nbE"
      },
      "source": [
        "## 함수\n",
        "\n",
        "1. 재사용성을 높일 수 있다.\n",
        "2. 코드의 구조를 파악하기 쉽다.\n",
        "3. 유지보수를 쉽게 할 수 있다."
      ]
    },
    {
      "cell_type": "code",
      "metadata": {
        "colab": {
          "base_uri": "https://localhost:8080/"
        },
        "id": "kc2mQ-j57pJU",
        "outputId": "ff2fc190-e897-41d6-ac72-f0da5f6c9368"
      },
      "source": [
        "def 더하기(x,y):\n",
        "    return x + y\n",
        "\n",
        "더하기(10, 20)    "
      ],
      "execution_count": 5,
      "outputs": [
        {
          "output_type": "execute_result",
          "data": {
            "text/plain": [
              "30"
            ]
          },
          "metadata": {
            "tags": []
          },
          "execution_count": 5
        }
      ]
    },
    {
      "cell_type": "code",
      "metadata": {
        "colab": {
          "base_uri": "https://localhost:8080/"
        },
        "id": "CnOB3eZ38H2r",
        "outputId": "3416ad27-4f21-4c02-c0b7-d70f581a5788"
      },
      "source": [
        "def 원의넓이(r):\n",
        "    return (r**2) * 3.14\n",
        "\n",
        "print(원의넓이(10) + 100)\n",
        "print(원의넓이(10) + 50)"
      ],
      "execution_count": 9,
      "outputs": [
        {
          "output_type": "stream",
          "text": [
            "414.0\n",
            "364.0\n"
          ],
          "name": "stdout"
        }
      ]
    },
    {
      "cell_type": "code",
      "metadata": {
        "colab": {
          "base_uri": "https://localhost:8080/"
        },
        "id": "KT7xo4Hm8dJs",
        "outputId": "2fa8e911-416e-46cd-b18a-c7cb5af7cffe"
      },
      "source": [
        "점수 = [10, 20, 30, 40]\n",
        "def 평균(반점수):\n",
        "    s =  0\n",
        "    for i in 반점수:\n",
        "        s += i\n",
        "    return s / len(반점수) \n",
        "\n",
        "print(평균(점수))\n",
        "print(평균(점수) +5)"
      ],
      "execution_count": 11,
      "outputs": [
        {
          "output_type": "stream",
          "text": [
            "25.0\n",
            "30.0\n"
          ],
          "name": "stdout"
        }
      ]
    },
    {
      "cell_type": "markdown",
      "metadata": {
        "id": "UWFW1O9GK9UY"
      },
      "source": [
        "## 파일 입출력"
      ]
    },
    {
      "cell_type": "code",
      "metadata": {
        "id": "JurB6TlsLBro"
      },
      "source": [
        "f = open(\"구구단.txt\", 'w') # r(읽음). w(작성, 덮어씀), a(추가)\n",
        "data = ''\n",
        "for 단 in range(2, 10):\n",
        "    for i in range(1, 10):\n",
        "        data += f'{단} X {i} = {단 * i}\\n'\n",
        "f.write(data)\n",
        "f.close()"
      ],
      "execution_count": null,
      "outputs": []
    },
    {
      "cell_type": "markdown",
      "metadata": {
        "id": "Vg_5eR3B4Rem"
      },
      "source": [
        "## 클래스\n",
        "\n",
        "* 현실세계의 개념을 Code로 옮겨놓는 것\n",
        "* 클래스의 첫 문자열은 대문자로 합니다."
      ]
    },
    {
      "cell_type": "code",
      "metadata": {
        "id": "XEiMZDym4Wc9"
      },
      "source": [
        "class Car :\n",
        "    # 클래스 변수 또는 맴버\n",
        "    maxspeed = 300\n",
        "    maxpeople = 5\n",
        "    #메서드\n",
        "    def start(self):\n",
        "        print('출발하였습니다.')\n",
        "\n",
        "    def stop(self):\n",
        "        print('멈췄습니다.')"
      ],
      "execution_count": 1,
      "outputs": []
    },
    {
      "cell_type": "code",
      "metadata": {
        "colab": {
          "base_uri": "https://localhost:8080/"
        },
        "id": "tMbxArG45V_F",
        "outputId": "e3ab8a62-9d83-43b1-fcd9-cf59959d0b22"
      },
      "source": [
        "audi = Car() # audi라는 인스턴스 생성\n",
        "bmw = Car() # bmw라는 인스턴스 생성\n",
        "\n",
        "audi.start()\n",
        "print(audi.maxpeople)\n",
        "print(Car.maxspeed) # 이렇게 실행하시면 안됩니다."
      ],
      "execution_count": 3,
      "outputs": [
        {
          "output_type": "stream",
          "text": [
            "출발하였습니다.\n",
            "5\n",
            "300\n"
          ],
          "name": "stdout"
        }
      ]
    },
    {
      "cell_type": "code",
      "metadata": {
        "colab": {
          "base_uri": "https://localhost:8080/"
        },
        "id": "upHVxXij6mp8",
        "outputId": "193eecb6-a105-47e8-de2d-0b7b08edb1a8"
      },
      "source": [
        "dir(audi)"
      ],
      "execution_count": 4,
      "outputs": [
        {
          "output_type": "execute_result",
          "data": {
            "text/plain": [
              "['__class__',\n",
              " '__delattr__',\n",
              " '__dict__',\n",
              " '__dir__',\n",
              " '__doc__',\n",
              " '__eq__',\n",
              " '__format__',\n",
              " '__ge__',\n",
              " '__getattribute__',\n",
              " '__gt__',\n",
              " '__hash__',\n",
              " '__init__',\n",
              " '__init_subclass__',\n",
              " '__le__',\n",
              " '__lt__',\n",
              " '__module__',\n",
              " '__ne__',\n",
              " '__new__',\n",
              " '__reduce__',\n",
              " '__reduce_ex__',\n",
              " '__repr__',\n",
              " '__setattr__',\n",
              " '__sizeof__',\n",
              " '__str__',\n",
              " '__subclasshook__',\n",
              " '__weakref__',\n",
              " 'maxpeople',\n",
              " 'maxspeed',\n",
              " 'start',\n",
              " 'stop']"
            ]
          },
          "metadata": {
            "tags": []
          },
          "execution_count": 4
        }
      ]
    },
    {
      "cell_type": "code",
      "metadata": {
        "colab": {
          "base_uri": "https://localhost:8080/"
        },
        "id": "esuShUUn6vYv",
        "outputId": "7735f34a-b741-4906-ba74-c2c4f478e72c"
      },
      "source": [
        "class 전기차(Car):\n",
        "    배터리 = 100\n",
        "    배터리에_따라_갈_수_있는_거리 = 300\n",
        "\n",
        "전기차audi = 전기차()\n",
        "전기차audi.start()"
      ],
      "execution_count": 13,
      "outputs": [
        {
          "output_type": "stream",
          "text": [
            "출발하였습니다.\n"
          ],
          "name": "stdout"
        }
      ]
    },
    {
      "cell_type": "code",
      "metadata": {
        "id": "RzcLLMyK_ual"
      },
      "source": [
        ""
      ],
      "execution_count": null,
      "outputs": []
    }
  ]
}